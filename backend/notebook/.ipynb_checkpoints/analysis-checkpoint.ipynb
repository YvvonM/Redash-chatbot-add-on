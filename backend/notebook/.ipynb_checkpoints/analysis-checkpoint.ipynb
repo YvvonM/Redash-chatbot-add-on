{
 "cells": [
  {
   "cell_type": "code",
   "execution_count": 98,
   "id": "047cbc8e-b28c-43c4-9edf-46498eee87a7",
   "metadata": {},
   "outputs": [],
   "source": [
    "%reload_ext autoreload\n",
    "%autoreload 2"
   ]
  },
  {
   "cell_type": "code",
   "execution_count": 99,
   "id": "153c66f6-371d-4b6f-986e-eee52baab4fd",
   "metadata": {},
   "outputs": [],
   "source": [
    "import os, sys\n",
    "import re\n",
    "import json\n",
    "import glob\n",
    "import datetime\n",
    "from collections import Counter\n",
    "\n",
    "import pandas as pd\n",
    "from matplotlib import pyplot as plt\n",
    "import seaborn as sns\n",
    "\n",
    "from nltk.corpus import stopwords\n",
    "from wordcloud import WordCloud"
   ]
  },
  {
   "cell_type": "code",
   "execution_count": 100,
   "id": "35417694-d7a4-4f72-a90a-c5d6c58b9ee0",
   "metadata": {},
   "outputs": [
    {
     "name": "stdout",
     "output_type": "stream",
     "text": [
      "/home/user/Documents/10/week 3/Redash-chatbot-add-on\n"
     ]
    }
   ],
   "source": [
    "# Add parent directory to path to import modules from src\n",
    "rpath = os.path.abspath('/home/user/Documents/10/week 3/Redash-chatbot-add-on')\n",
    "if rpath not in sys.path:\n",
    "    sys.path.insert(0, rpath)\n",
    "\n",
    "print(rpath)\n",
    "\n",
    "import script.data_summarizer as data_summarizer\n",
    "import backend.db_access as db"
   ]
  },
  {
   "cell_type": "code",
   "execution_count": 101,
   "id": "f5acca15-a691-4a6e-be30-95c030e5330c",
   "metadata": {},
   "outputs": [],
   "source": [
    "connection = {\n",
    "    'dbname': 'youtube2',\n",
    "    'user': 'user',\n",
    "    'password': 'user',\n",
    "    'host': 'localhost',\n",
    "}"
   ]
  },
  {
   "cell_type": "code",
   "execution_count": 112,
   "id": "263b0f3c-4345-419a-aa08-a7c9fdd68135",
   "metadata": {
    "tags": []
   },
   "outputs": [
    {
     "name": "stdout",
     "output_type": "stream",
     "text": [
      "CONNECTED\n"
     ]
    },
    {
     "data": {
      "text/plain": [
       "<connection object at 0x7f9495e5aac0; dsn: 'user=user password=xxx dbname=youtube2 host=localhost', closed: 0>"
      ]
     },
     "execution_count": 112,
     "metadata": {},
     "output_type": "execute_result"
    }
   ],
   "source": [
    "db.connect_to_database(connection)"
   ]
  },
  {
   "cell_type": "code",
   "execution_count": 113,
   "id": "e8a55593-911c-4fdc-bca9-3ad4eab76f37",
   "metadata": {
    "tags": []
   },
   "outputs": [],
   "source": [
    "directory = '/home/user/Documents/10/week 3/Redash-chatbot-add-on/youtube-data'"
   ]
  },
  {
   "cell_type": "code",
   "execution_count": 120,
   "id": "9ecc575d-bdc5-4cf1-a130-3a9e96ab26f0",
   "metadata": {},
   "outputs": [],
   "source": [
    "db.traverse_directory(connection,directory)"
   ]
  }
 ],
 "metadata": {
  "kernelspec": {
   "display_name": "Python 3 (ipykernel)",
   "language": "python",
   "name": "python3"
  },
  "language_info": {
   "codemirror_mode": {
    "name": "ipython",
    "version": 3
   },
   "file_extension": ".py",
   "mimetype": "text/x-python",
   "name": "python",
   "nbconvert_exporter": "python",
   "pygments_lexer": "ipython3",
   "version": "3.11.5"
  }
 },
 "nbformat": 4,
 "nbformat_minor": 5
}
