{
 "cells": [
  {
   "cell_type": "code",
   "execution_count": null,
   "id": "047cbc8e-b28c-43c4-9edf-46498eee87a7",
   "metadata": {},
   "outputs": [],
   "source": [
    "%reload_ext autoreload\n",
    "%autoreload 2"
   ]
  },
  {
   "cell_type": "code",
   "execution_count": null,
   "id": "153c66f6-371d-4b6f-986e-eee52baab4fd",
   "metadata": {},
   "outputs": [],
   "source": [
    "import os, sys\n",
    "import re\n",
    "import json\n",
    "import glob\n",
    "import datetime\n",
    "from collections import Counter\n",
    "\n",
    "import pandas as pd\n",
    "from matplotlib import pyplot as plt\n",
    "import seaborn as sns\n",
    "\n",
    "from nltk.corpus import stopwords\n",
    "from wordcloud import WordCloud"
   ]
  },
  {
   "cell_type": "code",
   "execution_count": null,
   "id": "35417694-d7a4-4f72-a90a-c5d6c58b9ee0",
   "metadata": {},
   "outputs": [],
   "source": [
    "# Add parent directory to path to import modules from src\n",
    "rpath = os.path.abspath('/home/user/Documents/10/telecom')\n",
    "print(rpath)\n",
    "if rpath not in sys.path:\n",
    "    sys.path.insert(0, rpath)\n",
    "\n",
    "print(rpath)\n",
    "\n",
    "import script.data_summarizer as data_summarizer\n",
    "import db_access as db"
   ]
  },
  {
   "cell_type": "code",
   "execution_count": null,
   "id": "f5acca15-a691-4a6e-be30-95c030e5330c",
   "metadata": {},
   "outputs": [],
   "source": [
    "connection = {\n",
    "    'dbname': 'telecom',\n",
    "    'user': 'telecom3',\n",
    "    'password': 'telecom',\n",
    "    'host': 'localhost',\n",
    "}"
   ]
  },
  {
   "cell_type": "code",
   "execution_count": null,
   "id": "9ecc575d-bdc5-4cf1-a130-3a9e96ab26f0",
   "metadata": {},
   "outputs": [],
   "source": [
    "db.connect_to_database(connection)"
   ]
  },
  {
   "cell_type": "code",
   "execution_count": null,
   "id": "364e2225-cfae-446e-a247-0243ad774964",
   "metadata": {},
   "outputs": [],
   "source": [
    "data.head(20)"
   ]
  },
  {
   "cell_type": "code",
   "execution_count": null,
   "id": "edb044be-75e8-48bd-a8d0-e73daa464c77",
   "metadata": {},
   "outputs": [],
   "source": [
    "data_summarizer.summarize_data(data)"
   ]
  },
  {
   "cell_type": "code",
   "execution_count": null,
   "id": "c0cef6ff-d3e1-42ab-a6cc-192b2f8baade",
   "metadata": {},
   "outputs": [],
   "source": [
    "data.shape"
   ]
  },
  {
   "cell_type": "code",
   "execution_count": null,
   "id": "ad1fbd59-b544-47e1-9323-a1412a6eb0a8",
   "metadata": {},
   "outputs": [],
   "source": [
    "data_summarizer.categorical_summary(data)"
   ]
  }
 ],
 "metadata": {
  "kernelspec": {
   "display_name": "Python 3 (ipykernel)",
   "language": "python",
   "name": "python3"
  },
  "language_info": {
   "codemirror_mode": {
    "name": "ipython",
    "version": 3
   },
   "file_extension": ".py",
   "mimetype": "text/x-python",
   "name": "python",
   "nbconvert_exporter": "python",
   "pygments_lexer": "ipython3",
   "version": "3.11.5"
  }
 },
 "nbformat": 4,
 "nbformat_minor": 5
}
